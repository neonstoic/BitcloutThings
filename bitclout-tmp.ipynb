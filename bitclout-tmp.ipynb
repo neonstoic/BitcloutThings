{
 "cells": [
  {
   "cell_type": "code",
   "execution_count": null,
   "metadata": {},
   "outputs": [],
   "source": [
    "pip install requests"
   ]
  },
  {
   "cell_type": "markdown",
   "metadata": {},
   "source": [
    "# Bitclout Jupyter Notebook\r\n",
    "For a list of all bitclout API endpoints, check https://docs.bitclout.com/devs/backend-api\r\n",
    "Note that not all API endpoint are necessarily documented.\r\n",
    "There are some that can be seen in the bitcloud backend code that do not appear in the published docs.\r\n",
    "\r\n",
    "This python jupyter notebook will just go through calling some and showing how to go about navigating the blockchain with code.\r\n",
    "\r\n",
    "**IMPORTANT:** It will probably not be possible to call some of these against the bitclout.com domain endpoints as I believe that may rate limit. It is best to have a node running yourself or perhaps know of a node that has unlimited API calls. Setting up a node is relatively painless, but best to be done on a machine with at 32gb ram and multiple tb's of disk space. At the low end, a dedicated host in the cloud can be found for around $40 USD per month.\r\n"
   ]
  },
  {
   "cell_type": "code",
   "execution_count": 3,
   "metadata": {},
   "outputs": [],
   "source": [
    "# Here is the endpoint that we use\r\n",
    "# Bitclout backend api is hosted on port 17001 by default, when using the supplied run config\r\n",
    "endpoint = 'http://127.0.0.1:17001'"
   ]
  },
  {
   "cell_type": "code",
   "execution_count": 2,
   "metadata": {},
   "outputs": [
    {
     "name": "stdout",
     "output_type": "stream",
     "text": [
      "<Response [200]>\n"
     ]
    }
   ],
   "source": [
    "# Healthcheck API just returns a thumbs up or thumbs down by way of an http response\r\n",
    "# 200 says that things are good.\r\n",
    "import requests\r\n",
    "import json\r\n",
    "\r\n",
    "response = requests.get(endpoint+\"/api/v0/health-check\")\r\n",
    "print(response)"
   ]
  },
  {
   "cell_type": "markdown",
   "metadata": {},
   "source": [
    "Most of the Bitclout API endpoints are POST requests.\r\n",
    "\r\n",
    "There are two ways to get user profile data. The first is through the get-single-profile request which retrieves information about a user. Another profile endpoint exists to retrieve numerous user profiles in a single API call. Sort of a bulk type of API call."
   ]
  },
  {
   "cell_type": "code",
   "execution_count": 3,
   "metadata": {},
   "outputs": [
    {
     "name": "stdout",
     "output_type": "stream",
     "text": [
      "{\"Profile\":{\"PublicKeyBase58Check\":\"BC1YLint2QNJWyNMX8kAiiTiYjT8yrTNYtzXKbGhXRoj7dPyNHboQLY\",\"Username\":\"NeonStoic\",\"Description\":\"🤖AI 🚀DeFi 👓AR 🥽VR 👾SciFi\\n🔮Futurism 📸Photography 💻Code\\nBuilding things\\n\\nProjects:\\n @wecreate           @btclt_it\\n @Bitlytics          @cloutfaucet\\n @BitCloutBoutique\\n\",\"IsHidden\":false,\"IsReserved\":false,\"IsVerified\":false,\"Comments\":null,\"Posts\":null,\"CoinEntry\":{\"CreatorBasisPoints\":500,\"BitCloutLockedNanos\":2865857356,\"NumberOfHolders\":101,\"CoinsInCirculationNanos\":14204241987,\"CoinWatermarkNanos\":14476097959},\"CoinPriceBitCloutNanos\":605282065,\"StakeMultipleBasisPoints\":12500,\"StakeEntryStats\":{\"TotalStakeNanos\":0,\"TotalStakeOwedNanos\":0,\"TotalCreatorEarningsNanos\":0,\"TotalFeesBurnedNanos\":0,\"TotalPostStakeNanos\":0},\"UsersThatHODL\":null},\"IsBlacklisted\":false,\"IsGraylisted\":false}\n",
      "\n"
     ]
    }
   ],
   "source": [
    "data = { 'Username':'Neonstoic'}\r\n",
    "response = requests.post(endpoint+\"/api/v0/get-single-profile\", json=data)\r\n",
    "print(response.text)"
   ]
  },
  {
   "cell_type": "markdown",
   "metadata": {},
   "source": [
    "The previous API call takes the username (my username) and returns some details about the profile:\r\n",
    "- PublicKeyBase58Check : This is the public key for the user. This is a super important key and is used for most of the other user API endpoints (as I'll show below).\r\n",
    "- Description (self explanatory)\r\n",
    "- IsReserved : indicates if the user was reserved. Think all the top held profiles like Elon.\r\n",
    "- CoinEntry : This is a more important part of the response and is an object within the Profile JSON that provides the uer's creator coin details like number of Hodlers. Note that coin proce (CoinPriceBitCloutNanos) is outside of this.\r\n",
    "- CoinPriceNanos : the user's creator coin price... in Nanos. **Important**: All API calls deal with $CLOUT in Nanos. 1 $CLOUT == 1,000,000,000 Nanos. Yes, 1 Billion Nanos per Bitclout.\r\n",
    "\r\n",
    "Once you have the Publick key (PublicKeyBase58check), you can make some other API calls to retrieve other things for that user. For exmaple, let's get the user's profile image..."
   ]
  },
  {
   "cell_type": "code",
   "execution_count": 6,
   "metadata": {},
   "outputs": [
    {
     "name": "stdout",
     "output_type": "stream",
     "text": [
      "BC1YLint2QNJWyNMX8kAiiTiYjT8yrTNYtzXKbGhXRoj7dPyNHboQLY\n",
      "200\n"
     ]
    },
    {
     "data": {
      "image/png": "[encoded data removed]",
      "text/plain": [
       "<IPython.core.display.Image object>"
      ]
     },
     "metadata": {},
     "output_type": "display_data"
    }
   ],
   "source": [
    "from IPython.display import Image, display\r\n",
    "\r\n",
    "# Get profile picture for user id\r\n",
    "data = { 'Username': 'Neonstoic'}\r\n",
    "response = requests.post(endpoint+\"/api/v0/get-single-profile\", json=data)\r\n",
    "if response.status_code == 200:\r\n",
    "    userprofile = json.loads(response.text)['Profile']\r\n",
    "    print(userprofile['PublicKeyBase58Check'])\r\n",
    "    response = requests.get(endpoint+'/api/v0/get-single-profile-picture/'+userprofile['PublicKeyBase58Check'])\r\n",
    "    print(response.status_code)\r\n",
    "    display(Image(response.content))   \r\n",
    "else:\r\n",
    "    print(\"Profile not found\")"
   ]
  },
  {
   "cell_type": "markdown",
   "metadata": {},
   "source": [
    "Besides User data, you would probably be interested in transaction data.\r\n",
    "Maybe you are interested in getting details about the *genesis block*. This is the first block, or block zero in the Bitclout blockchain."
   ]
  },
  {
   "cell_type": "code",
   "execution_count": 5,
   "metadata": {
    "tags": []
   },
   "outputs": [
    {
     "name": "stdout",
     "output_type": "stream",
     "text": [
      "Blockhash: 5567c45b7b83b604f9ff5cb5e88dfc9ad7d5a1dd5818dd19e6d02466f47cbd62\n",
      "2021-01-18 00:42:24\n"
     ]
    }
   ],
   "source": [
    "# Get details for block \r\n",
    "from datetime import datetime\r\n",
    "\r\n",
    "def getBlockInfo(height):\r\n",
    "    # Call /api/v1/block to get details about a block passed to the function\r\n",
    "    data = { 'Height':height, 'FullBlock':True }\r\n",
    "    response = requests.post(endpoint+\"/api/v1/block\", json=data)\r\n",
    "\r\n",
    "    # Return the JSON response\r\n",
    "    respdata = json.loads(response.text)\r\n",
    "    return respdata\r\n",
    "\r\n",
    "# Retrieve Block ZERO details\r\n",
    "data = getBlockInfo(0)\r\n",
    "blockhash = data['Header']['BlockHashHex']\r\n",
    "transactions = data['Transactions']\r\n",
    "\r\n",
    "# timestamps in the blockchain are stored as epoch date (in seconds)\r\n",
    "# timestamp can be converted in pythong using standard date-time functionality\r\n",
    "timestamp = datetime.fromtimestamp(data['Header']['TstampSecs'])\r\n",
    "\r\n",
    "print('Blockhash: ' + blockhash)\r\n",
    "print(timestamp)"
   ]
  },
  {
   "cell_type": "markdown",
   "metadata": {},
   "source": [
    "If you want to check out the genesis block in all its detailed details, you can use a bitclout block explorer here : https://explorer.bitclout.com/?query-node=https:%2F%2Fapi.bitclout.com&block-hash=5567c45b7b83b604f9ff5cb5e88dfc9ad7d5a1dd5818dd19e6d02466f47cbd62 If you do take a look, you can see a load of users to whom initial genesis block rewards were provided."
   ]
  },
  {
   "cell_type": "markdown",
   "metadata": {},
   "source": [
    "### Transaction Types\n",
    "From the code *core/lib/network.go*\n",
    "- UNSET\n",
    "- BLOCK_REWARD\n",
    "- BASIC_TRANSFER\n",
    "- BITCOIN_EXCHANGE\n",
    "- PRIVATE_MESSAGE\n",
    "- SUBMIT_POST\n",
    "- UPDATE_PROFILE\n",
    "- UPDATE_BITCOIN_USD_EXCHANGE_RATE\n",
    "- FOLLOW\n",
    "- LIKE\n",
    "- CREATOR_COIN\n",
    "- CREATOR_COIN_TRANSFER\n",
    "- SWAP_IDENTITY\n",
    "- UPDATE_GLOBAL_PARAMS"
   ]
  },
  {
   "cell_type": "markdown",
   "metadata": {},
   "source": [
    "So as an experiment, let's do the following :\r\n",
    "- Determine what the most recent block height is\r\n",
    "- Loop through from 0 to the max block height and\r\n",
    "  - Get all the \"UPDATE_PROFILE\" transactions and store the public key for them.\r\n",
    "\r\n",
    "Theoretically, doing the above will produce a list of all the users in Bitclout."
   ]
  },
  {
   "cell_type": "code",
   "execution_count": 7,
   "metadata": {
    "tags": []
   },
   "outputs": [
    {
     "name": "stdout",
     "output_type": "stream",
     "text": [
      "done!\n"
     ]
    }
   ],
   "source": [
    "import requests\r\n",
    "import json\r\n",
    "\r\n",
    "#Let's loop through blocks, looking for updated profiles, which should give us all the profiles\r\n",
    "blocknum = 0\r\n",
    "\r\n",
    "#Get latest header height from node-info endpoint (which is strangely a POST with no body. Why not GET?)\r\n",
    "def getChainHeight():\r\n",
    "    response = requests.post(endpoint+'/api/v1/node-info', json={})\r\n",
    "    respdata = json.loads(response.text)\r\n",
    "    chainheight = respdata['BitCloutStatus']['LatestBlockHeight']\r\n",
    "    return chainheight\r\n",
    "\r\n",
    "height = getChainHeight()\r\n",
    "f = open('users.txt', 'w')\r\n",
    "\r\n",
    "# NOTE - Just setting height to 10 for now\r\n",
    "# Otherwise it takes a really long time. Just calling this 10\r\n",
    "# times while calling into a node that I host took over 100 seconds.abs\r\n",
    "height = 10\r\n",
    "\r\n",
    "# Do loop\r\n",
    "for n in range(0, height):\r\n",
    "    data = getBlockInfo(n)\r\n",
    "\r\n",
    "    update_txns = []\r\n",
    "\r\n",
    "    for tx in data['Transactions']:\r\n",
    "        if tx['TransactionType'] == 'UPDATE_PROFILE':\r\n",
    "            update_txns.append(tx)\r\n",
    "            user_public_key = tx['Outputs'][0]['PublicKeyBase58Check']\r\n",
    "            f.write(user_public_key + '\\n')\r\n",
    "\r\n",
    "f.close()\r\n",
    "print(\"done!\")\r\n"
   ]
  },
  {
   "cell_type": "code",
   "execution_count": null,
   "metadata": {},
   "outputs": [],
   "source": []
  }
 ],
 "metadata": {
  "interpreter": {
   "hash": "caa88b2693f52ad0f21b79640b3f749cb76153e573c25f068aa732c423492b07"
  },
  "kernelspec": {
   "display_name": "Python 3.7.2 64-bit",
   "name": "python3"
  },
  "language_info": {
   "codemirror_mode": {
    "name": "ipython",
    "version": 3
   },
   "file_extension": ".py",
   "mimetype": "text/x-python",
   "name": "python",
   "nbconvert_exporter": "python",
   "pygments_lexer": "ipython3",
   "version": "3.7.2"
  },
  "orig_nbformat": 4
 },
 "nbformat": 4,
 "nbformat_minor": 2
}