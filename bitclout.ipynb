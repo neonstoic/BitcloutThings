{
 "cells": [
  {
   "cell_type": "code",
   "execution_count": null,
   "source": [
    "pip install requests"
   ],
   "outputs": [],
   "metadata": {}
  },
  {
   "cell_type": "markdown",
   "source": [
    "# Bitclout Jupyter Notebook\r\n",
    "For a list of all bitclout API endpoints, check https://docs.bitclout.com/devs/backend-api\r\n",
    "Note that not all API endpoint are necessarily documented.\r\n",
    "There are some that can be seen in the bitcloud backend code that do not appear in the published docs.\r\n",
    "\r\n",
    "This python jupyter notebook will just go through calling some and showing how to go about navigating the blockchain with code.\r\n",
    "\r\n",
    "**IMPORTANT:** It will probably not be possible to call some of these against the bitclout.com domain endpoints as I believe that may rate limit. It is best to have a node running yourself or perhaps know of a node that has unlimited API calls. Setting up a node is relatively painless, but best to be done on a machine with at 32gb ram and multiple tb's of disk space. At the low end, a dedicated host in the cloud can be found for around $40 USD per month.\r\n"
   ],
   "metadata": {}
  },
  {
   "cell_type": "code",
   "execution_count": null,
   "source": [
    "# Here is the endpoint that we use\n",
    "# Bitclout backend api is hosted on port 17001 by default, when using the supplied run config\n",
    "endpoint = 'http://127.0.0.1:17001'"
   ],
   "outputs": [],
   "metadata": {}
  },
  {
   "cell_type": "code",
   "execution_count": null,
   "source": [
    "# Healthcheck API just returns a thumbs up or thumbs down by way of an http response\n",
    "# 200 says that things are good.\n",
    "import requests\n",
    "import json\n",
    "\n",
    "response = requests.get(endpoint+\"/api/v0/health-check\")\n",
    "print(response)"
   ],
   "outputs": [],
   "metadata": {}
  },
  {
   "cell_type": "markdown",
   "source": [
    "Most of the Bitclout API endpoints are POST requests.\r\n",
    "\r\n",
    "There are two ways to get user profile data. The first is through the get-single-profile request which retrieves information about a user. Another profile endpoint exists to retrieve numerous user profiles in a single API call. Sort of a bulk type of API call."
   ],
   "metadata": {}
  },
  {
   "cell_type": "code",
   "execution_count": null,
   "source": [
    "data = { 'Username':'Neonstoic'}\n",
    "response = requests.post(endpoint+\"/api/v0/get-single-profile\", json=data)\n",
    "print(response.text)"
   ],
   "outputs": [],
   "metadata": {}
  },
  {
   "cell_type": "markdown",
   "source": [
    "The previous API call takes the username (my username) and returns some details about the profile:\r\n",
    "- PublicKeyBase58Check : This is the public key for the user. This is a super important key and is used for most of the other user API endpoints (as I'll show below).\r\n",
    "- Description (self explanatory)\r\n",
    "- IsReserved : indicates if the user was reserved. Think all the top held profiles like Elon.\r\n",
    "- CoinEntry : This is a more important part of the response and is an object within the Profile JSON that provides the uer's creator coin details like number of Hodlers. Note that coin proce (CoinPriceBitCloutNanos) is outside of this.\r\n",
    "- CoinPriceNanos : the user's creator coin price... in Nanos. **Important**: All API calls deal with $CLOUT in Nanos. 1 $CLOUT == 1,000,000,000 Nanos. Yes, 1 Billion Nanos per Bitclout.\r\n",
    "\r\n",
    "Once you have the Publick key (PublicKeyBase58check), you can make some other API calls to retrieve other things for that user. For exmaple, let's get the user's profile image..."
   ],
   "metadata": {}
  },
  {
   "cell_type": "code",
   "execution_count": null,
   "source": [
    "from IPython.display import Image, display\n",
    "\n",
    "# Get profile picture for user id\n",
    "data = { 'Username': 'Neonstoic'}\n",
    "response = requests.post(endpoint+\"/api/v0/get-single-profile\", json=data)\n",
    "if response.status_code == 200:\n",
    "    userprofile = json.loads(response.text)['Profile']\n",
    "    print(userprofile['PublicKeyBase58Check'])\n",
    "    response = requests.get(endpoint+'/api/v0/get-single-profile-picture/'+userprofile['PublicKeyBase58Check'])\n",
    "    print(response.status_code)\n",
    "    display(Image(response.content))   \n",
    "else:\n",
    "    print(\"Profile not found\")"
   ],
   "outputs": [],
   "metadata": {}
  },
  {
   "cell_type": "markdown",
   "source": [
    "Besides User data, you would probably be interested in transaction data.\r\n",
    "Maybe you are interested in getting details about the *genesis block*. This is the first block, or block zero in the Bitclout blockchain."
   ],
   "metadata": {}
  },
  {
   "cell_type": "code",
   "execution_count": null,
   "source": [
    "# Get details for block \n",
    "from datetime import datetime\n",
    "\n",
    "def getBlockInfo(height):\n",
    "    # Call /api/v1/block to get details about a block passed to the function\n",
    "    data = { 'Height':height, 'FullBlock':True }\n",
    "    response = requests.post(endpoint+\"/api/v1/block\", json=data)\n",
    "\n",
    "    # Return the JSON response\n",
    "    respdata = json.loads(response.text)\n",
    "    return respdata\n",
    "\n",
    "# Retrieve Block ZERO details\n",
    "data = getBlockInfo(0)\n",
    "blockhash = data['Header']['BlockHashHex']\n",
    "transactions = data['Transactions']\n",
    "\n",
    "# timestamps in the blockchain are stored as epoch date (in seconds)\n",
    "# timestamp can be converted in pythong using standard date-time functionality\n",
    "timestamp = datetime.fromtimestamp(data['Header']['TstampSecs'])\n",
    "\n",
    "print('Blockhash: ' + blockhash)\n",
    "print(timestamp)"
   ],
   "outputs": [],
   "metadata": {
    "tags": []
   }
  },
  {
   "cell_type": "markdown",
   "source": [
    "If you want to check out the genesis block in all its detailed details, you can use a bitclout block explorer here : https://explorer.bitclout.com/?query-node=https:%2F%2Fapi.bitclout.com&block-hash=5567c45b7b83b604f9ff5cb5e88dfc9ad7d5a1dd5818dd19e6d02466f47cbd62 If you do take a look, you can see a load of users to whom initial genesis block rewards were provided."
   ],
   "metadata": {}
  },
  {
   "cell_type": "markdown",
   "source": [
    "### Transaction Types\n",
    "From the code *core/lib/network.go*\n",
    "- UNSET\n",
    "- BLOCK_REWARD\n",
    "- BASIC_TRANSFER\n",
    "- BITCOIN_EXCHANGE\n",
    "- PRIVATE_MESSAGE\n",
    "- SUBMIT_POST\n",
    "- UPDATE_PROFILE\n",
    "- UPDATE_BITCOIN_USD_EXCHANGE_RATE\n",
    "- FOLLOW\n",
    "- LIKE\n",
    "- CREATOR_COIN\n",
    "- CREATOR_COIN_TRANSFER\n",
    "- SWAP_IDENTITY\n",
    "- UPDATE_GLOBAL_PARAMS"
   ],
   "metadata": {}
  },
  {
   "cell_type": "markdown",
   "source": [
    "So as an experiment, let's do the following :\r\n",
    "- Determine what the most recent block height is\r\n",
    "- Loop through from 0 to the max block height and\r\n",
    "  - Get all the \"UPDATE_PROFILE\" transactions and store the public key for them.\r\n",
    "\r\n",
    "Theoretically, doing the above will produce a list of all the users in Bitclout."
   ],
   "metadata": {}
  },
  {
   "cell_type": "code",
   "execution_count": null,
   "source": [
    "import requests\n",
    "import json\n",
    "\n",
    "#Let's loop through blocks, looking for updated profiles, which should give us all the profiles\n",
    "blocknum = 0\n",
    "\n",
    "#Get latest header height from node-info endpoint (which is strangely a POST with no body. Why not GET?)\n",
    "def getChainHeight():\n",
    "    response = requests.post(endpoint+'/api/v1/node-info', json={})\n",
    "    respdata = json.loads(response.text)\n",
    "    chainheight = respdata['BitCloutStatus']['LatestBlockHeight']\n",
    "    return chainheight\n",
    "\n",
    "height = getChainHeight()\n",
    "f = open('users.txt', 'w')\n",
    "\n",
    "# NOTE - Just setting height to 10 for now\n",
    "# Otherwise it takes a really long time. Just calling this 10\n",
    "# times while calling into a node that I host took over 100 seconds.abs\n",
    "height = 10\n",
    "\n",
    "# Do loop\n",
    "for n in range(0, height):\n",
    "    data = getBlockInfo(n)\n",
    "\n",
    "    update_txns = []\n",
    "\n",
    "    for tx in data['Transactions']:\n",
    "        if tx['TransactionType'] == 'UPDATE_PROFILE':\n",
    "            update_txns.append(tx)\n",
    "            user_public_key = tx['Outputs'][0]['PublicKeyBase58Check']\n",
    "            f.write(user_public_key + '\\n')\n",
    "\n",
    "f.close()\n",
    "print(\"done!\")\n"
   ],
   "outputs": [],
   "metadata": {
    "tags": []
   }
  },
  {
   "cell_type": "code",
   "execution_count": null,
   "source": [
    "# Let's get all the image URL's for the most recent block\n",
    "import requests\n",
    "import json\n",
    "from IPython.display import display\n",
    "from PIL import Image\n",
    "\n",
    "#Get latest header height from node-info endpoint (which is strangely a POST with no body. Why not GET?)\n",
    "def getChainHeight():\n",
    "    response = requests.post(endpoint+'/api/v1/node-info', json={})\n",
    "    respdata = json.loads(response.text)\n",
    "    chainheight = respdata['BitCloutStatus']['LatestBlockHeight']\n",
    "    return chainheight\n",
    "\n",
    "def getBlockInfo(height):\n",
    "    # Call /api/v1/block to get details about a block passed to the function\n",
    "    data = { 'Height':height, 'FullBlock':True }\n",
    "    response = requests.post(endpoint+\"/api/v1/block\", json=data)\n",
    "\n",
    "    # Return the JSON response\n",
    "    respdata = json.loads(response.text)\n",
    "    return respdata\n",
    "\n",
    "\n",
    "def getTransaction(transactionHash):\n",
    "    data = {'TxnHashHex':transactionHash}\n",
    "    response = requests.post(endpoint+'/api/v0/submit-transaction', json=data)\n",
    "    respdata = json.loads(response.text)\n",
    "    return respdata\n",
    "\n",
    "def getPost(hash):\n",
    "    data = {'PostHashHex':hash}\n",
    "    response = requests.post(endpoint+'/api/v0/get-single-post',json=data)\n",
    "    respdata = {}\n",
    "    if response.status_code == 200:\n",
    "        respdata = json.loads(response.text)\n",
    "    else:\n",
    "        print('Not Found!')\n",
    "    return respdata\n",
    "\n",
    "def showImages(post):\n",
    "    reclout = post['RecloutedPostEntryResponse']\n",
    "    if reclout != None:\n",
    "        showImages(reclout)\n",
    "    imgurls = post['ImageURLs']\n",
    "    if imgurls != None:                \n",
    "        print(post['Body'])\n",
    "        for url in imgurls:\n",
    "            print(url)            \n",
    "        \n",
    "            i = Image.open(requests.get(url, stream=True).raw)\n",
    "            i.thumbnail((256,256))\n",
    "            display(i)\n",
    "\n",
    "height = getChainHeight()\n",
    "\n",
    "data = getBlockInfo(height)\n",
    "\n",
    "for tx in data['Transactions']:\n",
    "    if tx['TransactionType'] == 'SUBMIT_POST':\n",
    "        counter += 1\n",
    "        \n",
    "        posthash = tx['TransactionMetadata']['SubmitPostTxindexMetadata']['PostHashBeingModifiedHex']\n",
    "\n",
    "        post = getPost(posthash)\n",
    "        showImages(post['PostFound'])"
   ],
   "outputs": [],
   "metadata": {
    "tags": []
   }
  },
  {
   "cell_type": "markdown",
   "source": [
    "Next experiment : Get top NFT buyers on the platform\n",
    "1) Go through all blocks starting at forty-something k and look for transactions for NFT's\n",
    "2) Record each NFT transaction. User who bought, user who sold, price, date\n",
    "3) Store data in CSV file\n",
    "4) Upload data to neo4j database\n",
    "5) Run pagerank on buyers\n",
    "6) Possibly use visualization for network graph."
   ],
   "metadata": {}
  },
  {
   "cell_type": "code",
   "execution_count": null,
   "source": [
    "import requests\n",
    "import json\n",
    "from IPython.display import display\n",
    "from PIL import Image\n",
    "\n",
    "endpoint = 'http://127.0.0.1:17001'\n",
    "\n",
    "#Get latest header height from node-info endpoint (which is strangely a POST with no body. Why not GET?)\n",
    "def getChainHeight():\n",
    "    response = requests.post(endpoint+'/api/v1/node-info', json={})\n",
    "    respdata = json.loads(response.text)\n",
    "    chainheight = respdata['BitCloutStatus']['LatestBlockHeight']\n",
    "    return chainheight\n",
    "\n",
    "def getBlockInfo(height):\n",
    "    # Call /api/v1/block to get details about a block passed to the function\n",
    "    data = { 'Height':height, 'FullBlock':True }\n",
    "    response = requests.post(endpoint+\"/api/v1/block\", json=data)\n",
    "\n",
    "    # Return the JSON response\n",
    "    respdata = json.loads(response.text)\n",
    "    return respdata\n",
    "\n",
    "def getPost(hash):\n",
    "    data = {'PostHashHex':hash}\n",
    "    response = requests.post(endpoint+'/api/v0/get-single-post',json=data)\n",
    "    respdata = {}\n",
    "    if response.status_code == 200:\n",
    "        respdata = json.loads(response.text)\n",
    "    else:\n",
    "        print('Not Found!')\n",
    "    return respdata\n",
    "\n",
    "def showImages(post):\n",
    "    imgurls = post['ImageURLs']\n",
    "    if imgurls != None:                \n",
    "        #print(post['Body'])\n",
    "        for url in imgurls:\n",
    "            print(url)            \n",
    "        \n",
    "            i = Image.open(requests.get(url, stream=True).raw)\n",
    "            i.thumbnail((256,256))\n",
    "            display(i) \n",
    "\n",
    "def readTransactions(transactions):\n",
    "    c = 0\n",
    "    for tx in transactions:\n",
    "        if tx['TransactionType'] == 'ACCEPT_NFT_BID':\n",
    "            meta = tx['TransactionMetadata']\n",
    "            \n",
    "            buyerkey = ''\n",
    "            sellerkey = ''\n",
    "            for key in meta['AffectedPublicKeys']:\n",
    "                uhash = key['PublicKeyBase58Check']\n",
    "                if key['Metadata'] == 'BasicTransferOutput':\n",
    "                    sellerkey = uhash\n",
    "                else:\n",
    "                    buyerkey = uhash\n",
    "            nft = meta['AcceptNFTBidTxindexMetadata']\n",
    "            nftposthash = nft['NFTPostHashHex']\n",
    "            bid = nft['BidAmountNanos']\n",
    "            serial = nft['SerialNumber']\n",
    "            print(nftposthash, ':', bid, ':', serial, ' (Buyer:', getname(buyerkey), ', Seller:', getname(sellerkey))\n",
    "            p = getPost(nftposthash)\n",
    "            showImages(p['PostFound'])\n",
    "        c += 1\n",
    "\n",
    "def getname(hash):\n",
    "    data = {'PublicKeyBase58Check':hash}\n",
    "    response = requests.post(endpoint+\"/api/v0/get-single-profile\", json=data)\n",
    "    respdata = {}\n",
    "\n",
    "    if response.status_code == 200:\n",
    "        respdata = json.loads(response.text)\n",
    "        return respdata['Profile']['Username']\n",
    "    else:\n",
    "        return ''\n",
    "\n",
    "top = getChainHeight()\n",
    "print('top of chain is block ', top)\n",
    "info = getBlockInfo(top)\n",
    "readTransactions(info['Transactions'])"
   ],
   "outputs": [],
   "metadata": {}
  }
 ],
 "metadata": {
  "interpreter": {
   "hash": "916dbcbb3f70747c44a77c7bcd40155683ae19c65e1c03b4aa3499c5328201f1"
  },
  "kernelspec": {
   "name": "python3",
   "display_name": "Python 3.8.10 64-bit"
  },
  "language_info": {
   "codemirror_mode": {
    "name": "ipython",
    "version": 3
   },
   "file_extension": ".py",
   "mimetype": "text/x-python",
   "name": "python",
   "nbconvert_exporter": "python",
   "pygments_lexer": "ipython3",
   "version": "3.8.10"
  },
  "orig_nbformat": 4
 },
 "nbformat": 4,
 "nbformat_minor": 2
}